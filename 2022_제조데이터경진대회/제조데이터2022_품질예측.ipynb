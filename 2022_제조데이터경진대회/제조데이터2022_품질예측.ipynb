{
 "cells": [
  {
   "cell_type": "code",
   "execution_count": 1,
   "id": "27e85033",
   "metadata": {},
   "outputs": [],
   "source": [
    "#pip install threadpoolctl==3.1.0 --> 오버샘플링 버전 연동 확인 "
   ]
  },
  {
   "cell_type": "code",
   "execution_count": 2,
   "id": "c427f728",
   "metadata": {},
   "outputs": [],
   "source": [
    "import pandas as pd\n",
    "pd.set_option('display.max_columns', None)\n",
    "#pd.set_option('display.max_rows', None)\n",
    "import numpy as np\n",
    "from numpy import array\n",
    "\n",
    "import seaborn as sns\n",
    "import matplotlib.pyplot as plt\n",
    "import datetime\n",
    "\n",
    "import statsmodels.api as sm\n",
    "from statsmodels.formula.api import ols\n",
    "from statsmodels.stats.anova import anova_lm\n",
    "from statsmodels.stats.outliers_influence import variance_inflation_factor\n",
    "\n",
    "import scipy\n",
    "from scipy import stats,interpolate\n",
    "from scipy.stats import skew,kurtosis,describe,variation,shapiro,levene,f_oneway\n",
    "from scipy.special import kl_div\n",
    "import  scipy.signal.signaltools\n",
    "\n",
    "def _centered(arr, newsize):\n",
    "    # Return the center newsize portion of the array.\n",
    "    newsize = np.asarray(newsize)\n",
    "    currsize = np.array(arr.shape)\n",
    "    startind = (currsize - newsize) // 2\n",
    "    endind = startind + newsize\n",
    "    myslice = [slice(startind[k], endind[k]) for k in range(len(endind))]\n",
    "    return arr[tuple(myslice)]\n",
    "\n",
    "scipy.signal.signaltools._centered = _centered\n",
    "\n",
    "import warnings \n",
    "warnings.filterwarnings(action='ignore')\n",
    "\n",
    "import optuna\n",
    "from optuna.integration import XGBoostPruningCallback\n",
    "from sklearn.preprocessing import LabelEncoder,OneHotEncoder\n",
    "from sklearn.model_selection import GridSearchCV,cross_validate\n",
    "from sklearn import model_selection\n",
    "from lightgbm import LGBMClassifier\n",
    "from xgboost import XGBClassifier\n",
    "from lightgbm import LGBMClassifier\n",
    "from xgboost import XGBClassifier\n",
    "from catboost import CatBoostClassifier\n",
    "from sklearn.linear_model import LogisticRegression\n",
    "from sklearn.model_selection import train_test_split,cross_val_score, StratifiedKFold, KFold \n",
    "from sklearn.ensemble import GradientBoostingClassifier,RandomForestClassifier,AdaBoostClassifier,IsolationForest,StackingClassifier\n",
    "from sklearn.metrics import accuracy_score,balanced_accuracy_score,precision_score,recall_score,confusion_matrix,f1_score,fbeta_score,roc_auc_score,classification_report,make_scorer,balanced_accuracy_score\n",
    "from mlxtend.classifier import StackingClassifier,StackingCVClassifier\n",
    "from sklearn.preprocessing import LabelEncoder,OneHotEncoder,StandardScaler,MinMaxScaler,RobustScaler,Binarizer\n",
    "\n",
    "from imblearn.over_sampling import SMOTE,ADASYN,BorderlineSMOTE,SVMSMOTE\n",
    "from imblearn.combine import SMOTEENN,SMOTETomek\n",
    "from imblearn.under_sampling import RandomUnderSampler,NearMiss,TomekLinks,CondensedNearestNeighbour,EditedNearestNeighbours\n",
    "\n",
    "import random\n",
    "import tensorflow \n",
    "import tensorflow as tf\n",
    "\n",
    "random.seed(1234)\n",
    "np.random.seed(1234)\n",
    "tf.random.set_seed(1234)\n",
    "\n",
    "from tensorflow import keras\n",
    "from tensorflow.keras import layers, models\n",
    "from tensorflow.keras.layers import *\n",
    "from tensorflow.keras.models import *\n",
    "from tensorflow.keras.callbacks import *\n",
    "from tensorflow.keras.optimizers import *\n",
    "from tensorflow.keras import backend as K\n",
    "\n",
    "import warnings \n",
    "warnings.filterwarnings(action='ignore')"
   ]
  },
  {
   "cell_type": "code",
   "execution_count": 3,
   "id": "be3a1c81",
   "metadata": {},
   "outputs": [],
   "source": [
    "def describex(data):\n",
    "        data = pd.DataFrame(data)\n",
    "        stats = data.describe()\n",
    "        skewness = data.skew()\n",
    "        kurtosis = data.kurtosis()\n",
    "        skewness_df = pd.DataFrame({'skewness':skewness}).T\n",
    "        kurtosis_df = pd.DataFrame({'kurtosis':kurtosis}).T\n",
    "        Appended_Stats = pd.concat([stats,skewness_df,kurtosis_df],axis=0)\n",
    "        return Appended_Stats"
   ]
  },
  {
   "cell_type": "code",
   "execution_count": 4,
   "id": "f688e5b4",
   "metadata": {},
   "outputs": [],
   "source": [
    "def get_clf_eval(y_test,pred=None,pred_proba=None):\n",
    "    confusion = confusion_matrix(y_test,pred)\n",
    "    accuracy = accuracy_score(y_test,pred)\n",
    "    precision = precision_score(y_test,pred)\n",
    "    recall = recall_score(y_test,pred)\n",
    "    roc_auc = roc_auc_score(y_test,pred_proba)\n",
    "    f1 = f1_score(y_test,pred)\n",
    "    f2 = fbeta_score(y_test,pred,beta=2)\n",
    "    balanced_acc = balanced_accuracy_score(y_test,pred)\n",
    "    print('Confusion Matrix')\n",
    "    print(confusion)\n",
    "    print('\\n')\n",
    "    print('정확도:',accuracy.round(3),'정밀도:', precision.round(3),'재현율:',recall.round(3),'AUC:',roc_auc.round(3),'F1:',f1.round(3),'F2:',f2.round(3),'Balanced_Accuracy:',balanced_acc.round(3))"
   ]
  },
  {
   "cell_type": "code",
   "execution_count": 5,
   "id": "d0bce2d5",
   "metadata": {},
   "outputs": [],
   "source": [
    "data1 = pd.read_csv('데이터셋압축/MEASURED_WAVE_TRAIN.csv',encoding='cp949')\n",
    "df1 =  pd.DataFrame(data1.MEASURED_WAVE.str.split(',').tolist()) # 콤마 제거 이후 열 형태로 변경\n",
    "df1.columns = 'MEASURED_WAVE_' + df1.columns.astype(str)\n",
    "data1 = pd.concat([data1[['REFERENCE_ID','QUALITY']],df1],axis=1)\n",
    "data1 = data1.drop_duplicates(subset=['REFERENCE_ID']) # REFERENCE_ID 중복 제거 \n",
    "\n",
    "data2 = pd.read_csv('데이터셋압축/REFERENCE_WAVE.csv',encoding='cp949')\n",
    "df2 =  pd.DataFrame(data2.REFERENCE_WAVE.str.split(',').tolist()) # 콤마 제거 이후 열 형태로 변경 \n",
    "df2.columns = 'REFERENCE_WAVE_' + df2.columns.astype(str)\n",
    "data2 = pd.concat([data2[['REFERENCE_ID']],df2],axis=1)\n",
    "\n",
    "\n",
    "for col in data1.columns:\n",
    "\n",
    "            try : data1[col] = data1[col].astype('float')\n",
    "            except: pass     \n",
    "            \n",
    "            \n",
    "for col in data2.columns:\n",
    "\n",
    "            try : data2[col] = data2[col].astype('float')\n",
    "            except: pass  \n",
    "            \n",
    "data_full = pd.merge(data1,data2,how='inner',on = 'REFERENCE_ID').dropna()\n",
    "data_full['QUALITY'] = data_full['QUALITY'].replace({'GOOD':0,'BAD':1})"
   ]
  },
  {
   "cell_type": "code",
   "execution_count": 6,
   "id": "e70eea22",
   "metadata": {},
   "outputs": [
    {
     "data": {
      "text/plain": [
       "(9407, 402)"
      ]
     },
     "execution_count": 6,
     "metadata": {},
     "output_type": "execute_result"
    }
   ],
   "source": [
    "data_full.shape"
   ]
  },
  {
   "cell_type": "code",
   "execution_count": 7,
   "id": "ea8f6ff6",
   "metadata": {},
   "outputs": [
    {
     "data": {
      "text/plain": [
       "QUALITY\n",
       "0    9076\n",
       "1     331\n",
       "Name: count, dtype: int64"
      ]
     },
     "execution_count": 7,
     "metadata": {},
     "output_type": "execute_result"
    }
   ],
   "source": [
    "data_full['QUALITY'].value_counts()"
   ]
  },
  {
   "cell_type": "code",
   "execution_count": 8,
   "id": "94388b85",
   "metadata": {
    "scrolled": true
   },
   "outputs": [],
   "source": [
    "#data_full = reduce_mem_usage(data_full)"
   ]
  },
  {
   "cell_type": "code",
   "execution_count": 9,
   "id": "70c90a3a",
   "metadata": {},
   "outputs": [],
   "source": [
    "Feature_Selection = False"
   ]
  },
  {
   "cell_type": "code",
   "execution_count": 10,
   "id": "17d50474",
   "metadata": {},
   "outputs": [
    {
     "data": {
      "text/plain": [
       "((7525, 400), (139, 400))"
      ]
     },
     "execution_count": 10,
     "metadata": {},
     "output_type": "execute_result"
    }
   ],
   "source": [
    "def Train_Test_Split(Feature_Selection):\n",
    "    \n",
    "    Data = data_full\n",
    "    Input_Data = data_full.drop(['REFERENCE_ID','QUALITY'],axis=1)\n",
    "    \n",
    "    X = Input_Data\n",
    "    y = Data['QUALITY']\n",
    "    \n",
    "    if Feature_Selection == False:\n",
    "\n",
    "        X_train,X_test,y_train,y_test = train_test_split(X,y,test_size=0.2,random_state=2021)\n",
    "        \n",
    "        ros_test = RandomUnderSampler(sampling_strategy=0.8,random_state=2021)   \n",
    "        X_test,y_test = ros_test.fit_resample(X_test,y_test)    \n",
    "\n",
    "        return X_train, y_train, X_test, y_test\n",
    "    \n",
    "    if Feature_Selection == True:\n",
    "        \n",
    "        X_train,X_test,y_train,y_test = train_test_split(X,y,test_size=0.2,random_state=2021)\n",
    "        Train = pd.concat([X_train,y_train],axis=1)\n",
    "        Pass = Train[Train['QUALITY']==0].drop(['QUALITY'],axis=1)\n",
    "        Fail = Train[Train['QUALITY']==1].drop(['QUALITY'],axis=1)\n",
    "\n",
    "        T_Test = stats.ttest_ind(Pass,Fail,equal_var=False) # equal_var=True\n",
    "        Columns = pd.DataFrame(X_train.columns).rename(columns={0:'Columns'})\n",
    "        P_Value = pd.DataFrame(T_Test[1]).rename(columns={0:'P-Value'})\n",
    "        Concat_columns_pvalues = pd.concat([Columns,P_Value],axis=1).dropna()\n",
    "\n",
    "        Significant_Values = Concat_columns_pvalues[Concat_columns_pvalues['P-Value'] < 0.05]['Columns'].to_list()\n",
    "        df_ttest = Data[Significant_Values]\n",
    "        \n",
    "        X_train,X_test,y_train,y_test = train_test_split(df_ttest,y,test_size=0.2,random_state=2021)\n",
    "        \n",
    "        ros_test = RandomUnderSampler(sampling_strategy=0.8,random_state=2021)   \n",
    "        X_test,y_test = ros_test.fit_resample(X_test,y_test)    \n",
    "\n",
    "        return X_train, y_train, X_test, y_test \n",
    "    \n",
    "X_train, y_train, X_test, y_test = Train_Test_Split(Feature_Selection)\n",
    "X_train.shape, X_test.shape"
   ]
  },
  {
   "cell_type": "code",
   "execution_count": 11,
   "id": "083033fb",
   "metadata": {},
   "outputs": [
    {
     "data": {
      "text/plain": [
       "(QUALITY\n",
       " 0    7256\n",
       " 1     269\n",
       " Name: count, dtype: int64,\n",
       " QUALITY\n",
       " 0    77\n",
       " 1    62\n",
       " Name: count, dtype: int64)"
      ]
     },
     "execution_count": 11,
     "metadata": {},
     "output_type": "execute_result"
    }
   ],
   "source": [
    "y_train.value_counts(),y_test.value_counts()"
   ]
  },
  {
   "cell_type": "code",
   "execution_count": 12,
   "id": "1b83a6e7",
   "metadata": {},
   "outputs": [],
   "source": [
    "# T-Test & Top10 Corr Feature Selection\n",
    "\n",
    "Train_Features = pd.concat([X_train,y_train],axis=1)\n",
    "df_corr =Train_Features.corr().iloc[1:,-1]\n",
    "df_corr = pd.DataFrame(df_corr).rename(columns={'QUALITY':'Corr'}).abs().reset_index()\n",
    "df_corr = df_corr.sort_values(by='Corr',ascending = False).iloc[1:]\n",
    "Top10_Corr = df_corr.head(10)['index'].to_list()\n",
    "\n",
    "#X_train = X_train[Top10_Corr]\n",
    "#X_test = X_test[Top10_Corr]\n",
    "\n",
    "#X_train.shape, X_test.shape"
   ]
  },
  {
   "cell_type": "code",
   "execution_count": 13,
   "id": "79ea40c3",
   "metadata": {
    "scrolled": true
   },
   "outputs": [],
   "source": [
    "#### Corr Feature Selection\n",
    "\n",
    "#Data = data_full\n",
    "#Input_Data = data_full.drop(['REFERENCE_ID','QUALITY'],axis=1)\n",
    "\n",
    "#X = Input_Data\n",
    "#y = Data['QUALITY']\n",
    "\n",
    "#X_train,X_test,y_train,y_test = train_test_split(X,y,test_size=0.2,random_state=2021)\n",
    "#Train = pd.concat([X_train,y_train],axis=1)\n",
    "\n",
    "#df_corr = Train.corr().iloc[1:,-1]\n",
    "#df_corr = pd.DataFrame(df_corr).rename(columns={'QUALITY':'Corr'}).abs().reset_index()\n",
    "#df_corr = df_corr.sort_values(by='Corr',ascending = False).iloc[1:]\n",
    "#df_corr = df_corr[df_corr['Corr'] >= 0.2] # 데이터마다 상관계수 최소값 다름 \n",
    "#Corr_Values = df_corr['index'].to_list()\n",
    "\n",
    "#df_Corr = Data[Corr_Values]\n",
    "#X_train,X_test,y_train,y_test = train_test_split(df_Corr,y,test_size=0.2,random_state=2021)\n",
    "\n",
    "#ros_test = RandomUnderSampler(sampling_strategy=0.8,random_state=2021)   \n",
    "#X_test,y_test = ros_test.fit_resample(X_test,y_test)    \n",
    "\n",
    "#X_train.shape,X_test.shape"
   ]
  },
  {
   "cell_type": "code",
   "execution_count": 14,
   "id": "47cc14b3",
   "metadata": {},
   "outputs": [],
   "source": [
    "#### VIF Feature Selection\n",
    "\n",
    "#Data = data_full\n",
    "#Input_Data = data_full.drop(['REFERENCE_ID','QUALITY'],axis=1)\n",
    "\n",
    "#X = Input_Data\n",
    "#y = Data['QUALITY']\n",
    "#X_train,X_test,y_train,y_test = train_test_split(X,y,test_size=0.1,random_state=2021)\n",
    "#Train = pd.concat([X_train,y_train],axis=1)\n",
    "\n",
    "#X = Train.drop(['QUALITY'],axis=1)\n",
    "#scaler = StandardScaler()\n",
    "#scale_cols =  X.columns\n",
    "#scaled_X = scaler.fit_transform(X[scale_cols])\n",
    "#scaled_X = pd.DataFrame(scaled_X, columns=scale_cols)\n",
    "#scaled_X = scaled_X.set_index(X.index)\n",
    "\n",
    "#vif = pd.DataFrame()\n",
    "#vif['VIF_Factor'] = [variance_inflation_factor(scaled_X.values, i) \n",
    "                     #for i in range(scaled_X.shape[1])]\n",
    "#X_Columns = pd.DataFrame(scaled_X.columns).rename(columns={0:'Columns'})\n",
    "\n",
    "#df_vif = pd.concat([X_Columns,vif],axis=1)\n",
    "#df_VIF = Data[df_vif[df_vif['VIF_Factor'] <= 10]['Columns'].to_list()]\n",
    "\n",
    "#X_train,X_test,y_train,y_test = train_test_split(df_VIF,y,test_size=0.1,random_state=2021)\n",
    "\n",
    "#ros_test = RandomUnderSampler(sampling_strategy=0.8,random_state=2021)   \n",
    "#X_test,y_test = ros_test.fit_resample(X_test,y_test)    "
   ]
  },
  {
   "cell_type": "code",
   "execution_count": 15,
   "id": "030bbb79",
   "metadata": {},
   "outputs": [],
   "source": [
    "# 활용할 ML 나열 \n",
    "rf = RandomForestClassifier(random_state=2021)\n",
    "rf_bal = RandomForestClassifier(random_state=2021,class_weight='balanced')\n",
    "ada = AdaBoostClassifier(random_state=2021)\n",
    "gbm = GradientBoostingClassifier(random_state=2021)\n",
    "xgb = XGBClassifier(random_state=2021)\n",
    "xgb_bal = XGBClassifier(random_state=2021,scale_pos_weight=y_train.value_counts()[0]/y_train.value_counts()[1])\n",
    "lgbm =  LGBMClassifier(random_state=2021)\n",
    "lgbm_bal = LGBMClassifier(random_state=2021,scale_pos_weight=y_train.value_counts()[0]/y_train.value_counts()[1]) \n",
    "\n",
    "models = [rf,rf_bal,ada,gbm,xgb,xgb_bal,lgbm,lgbm_bal]"
   ]
  },
  {
   "cell_type": "code",
   "execution_count": 16,
   "id": "8cb527d1",
   "metadata": {},
   "outputs": [],
   "source": [
    "def test_model(model):\n",
    "        \n",
    "    X_train, y_train, X_test, y_test = Train_Test_Split(Feature_Selection)\n",
    "    \n",
    "    ml = model\n",
    "    ml.fit(X_train,y_train)      \n",
    "    pred = ml.predict(X_test)\n",
    "    pred_proba = ml.predict_proba(X_test)[:,1]\n",
    "    print('----------------------------------------------------------------------------------------------------------')\n",
    "    get_clf_eval(y_test,pred,pred_proba)  \n",
    "    print('\\n')\n",
    "    print(classification_report(y_test, pred,target_names=['양품','불량']))\n",
    "    \n",
    "    if model == rf:\n",
    "        print('RandomForest Prediction Result')\n",
    "        print('\\n')\n",
    "        \n",
    "    elif model == rf_bal:\n",
    "        print('RandomForest(Balanced Weight) Prediction Result')\n",
    "        print('\\n')  \n",
    "        \n",
    "    elif model == ada:\n",
    "        print('AdaBoost Prediction Result')\n",
    "        print('\\n')\n",
    "     \n",
    "    elif model == gbm:\n",
    "        print('GradientBoostingMachine Prediction Result')\n",
    "        print('\\n')\n",
    "        \n",
    "    elif model == xgb:\n",
    "        print('XGBoost Prediction Result')\n",
    "        print('\\n')\n",
    "        \n",
    "    elif model == xgb_bal:\n",
    "        print('XGBoost(Balanced Weight) Prediction Result')\n",
    "        print('\\n')    \n",
    "        \n",
    "    elif model == lgbm:\n",
    "        print('LightGBM Prediction')\n",
    "        print('\\n')   \n",
    "        \n",
    "    elif model == lgbm_bal:\n",
    "        print('LightGBM(Balanced Weight) Prediction Result')"
   ]
  },
  {
   "cell_type": "code",
   "execution_count": 17,
   "id": "b677d9e3",
   "metadata": {
    "scrolled": true
   },
   "outputs": [],
   "source": [
    "# 전체 모델  원큐 출력 \n",
    "#for i in range(0,len(models)):\n",
    "\n",
    "#    model = models[i]\n",
    "#    test_model(model) "
   ]
  },
  {
   "cell_type": "code",
   "execution_count": 18,
   "id": "2bfc1dd7",
   "metadata": {},
   "outputs": [
    {
     "name": "stdout",
     "output_type": "stream",
     "text": [
      "----------------------------------------------------------------------------------------------------------\n",
      "Confusion Matrix\n",
      "[[77  0]\n",
      " [17 45]]\n",
      "\n",
      "\n",
      "정확도: 0.878 정밀도: 1.0 재현율: 0.726 AUC: 0.999 F1: 0.841 F2: 0.768 Balanced_Accuracy: 0.863\n",
      "\n",
      "\n",
      "              precision    recall  f1-score   support\n",
      "\n",
      "          양품       0.82      1.00      0.90        77\n",
      "          불량       1.00      0.73      0.84        62\n",
      "\n",
      "    accuracy                           0.88       139\n",
      "   macro avg       0.91      0.86      0.87       139\n",
      "weighted avg       0.90      0.88      0.87       139\n",
      "\n",
      "LightGBM(Balanced Weight) Prediction Result\n"
     ]
    }
   ],
   "source": [
    "test_model(models[7]) "
   ]
  },
  {
   "cell_type": "code",
   "execution_count": 19,
   "id": "c26ef042",
   "metadata": {},
   "outputs": [],
   "source": [
    "#pip install threadpoolctl==3.1.0"
   ]
  },
  {
   "cell_type": "code",
   "execution_count": 20,
   "id": "df88711f",
   "metadata": {},
   "outputs": [],
   "source": [
    "def Oversampling_Test(model):\n",
    "    \n",
    "    #X_train, y_train, X_test, y_test = Train_Test_Split(Feature_Selection)\n",
    "\n",
    "    for i in list(np.arange(0.65,1.05,0.05).round(2)): # sampling_strategy = 0.65, 0.7 , 0.75, 0.8 ,0.85, 0.9, 0.95, 1.0\n",
    "        oversampler = SMOTEENN(sampling_strategy=i,random_state=2021)\n",
    "        X_train_over,y_train_over = oversampler.fit_resample(X_train,y_train)\n",
    "        ml = model\n",
    "        ml.fit(X_train_over,y_train_over) \n",
    "        pred = ml.predict(X_test)\n",
    "        pred_proba = ml.predict_proba(X_test)[:,1]\n",
    "        get_clf_eval(y_test,pred,pred_proba)  \n",
    "        print('\\n')\n",
    "        print(classification_report(y_test, pred,target_names=['양품','불량']))\n",
    "        \n",
    "        if model == rf:\n",
    "            print('RandomForest SMOTEENN'+'='+str(i),'Prediction Result')\n",
    "            print('------------------------------------------------------------------------------------------------------')\n",
    "            print('\\n')\n",
    "            \n",
    "        elif model == rf_bal:\n",
    "            print('RandomForest(Balanced Weight) SMOTEENN'+'='+str(i),'Prediction Result')\n",
    "            print('------------------------------------------------------------------------------------------------------')\n",
    "            print('\\n')   \n",
    "\n",
    "        elif model == ada:\n",
    "            print('AdaBoost SMOTEENN'+'='+str(i),'Prediction Result')\n",
    "            print('------------------------------------------------------------------------------------------------------')\n",
    "            print('\\n')\n",
    "\n",
    "        elif model == gbm:\n",
    "            print('GradientBoostingMachine SMOTEENN'+'='+str(i),'Prediction Result')\n",
    "            print('------------------------------------------------------------------------------------------------------')\n",
    "            print('\\n')\n",
    "\n",
    "        elif model == xgb:\n",
    "            print('XGBoost SMOTEENN'+'='+str(i),'Prediction Result')\n",
    "            print('------------------------------------------------------------------------------------------------------')\n",
    "            print('\\n')\n",
    "            \n",
    "        elif model == xgb_bal:\n",
    "            print('XGBoost(Balanced Weight) SMOTEENN'+'='+str(i),'Prediction Result')\n",
    "            print('------------------------------------------------------------------------------------------------------')\n",
    "            print('\\n')    \n",
    "\n",
    "\n",
    "        elif model == lgbm:\n",
    "            print('LightGBM SMOTEENN'+'='+str(i),'Prediction Result')\n",
    "            print('------------------------------------------------------------------------------------------------------')\n",
    "            print('\\n')   \n",
    "            \n",
    "        elif model == lgbm_bal:\n",
    "            print('LightGBM(Balanced Weight) SMOTEENN'+'='+str(i),'Prediction Result')\n",
    "            print('------------------------------------------------------------------------------------------------------')\n",
    "            print('\\n')          \n",
    "            \n",
    "models = [rf,rf_bal,ada,gbm,xgb,xgb_bal,lgbm,lgbm_bal]"
   ]
  },
  {
   "cell_type": "code",
   "execution_count": 21,
   "id": "e8d5d856",
   "metadata": {
    "scrolled": true
   },
   "outputs": [],
   "source": [
    "#Oversampling_Test(models[0])"
   ]
  },
  {
   "cell_type": "code",
   "execution_count": 22,
   "id": "ce8c0bc4",
   "metadata": {
    "scrolled": true
   },
   "outputs": [],
   "source": [
    "#Oversampling_Test(models[1])"
   ]
  },
  {
   "cell_type": "code",
   "execution_count": 23,
   "id": "31f4998d",
   "metadata": {
    "scrolled": true
   },
   "outputs": [],
   "source": [
    "#Oversampling_Test(models[2])"
   ]
  },
  {
   "cell_type": "code",
   "execution_count": 24,
   "id": "8efb6475",
   "metadata": {
    "scrolled": true
   },
   "outputs": [],
   "source": [
    "#Oversampling_Test(models[3])"
   ]
  },
  {
   "cell_type": "code",
   "execution_count": 25,
   "id": "b0a1cd4a",
   "metadata": {
    "scrolled": true
   },
   "outputs": [],
   "source": [
    "#Oversampling_Test(models[4])"
   ]
  },
  {
   "cell_type": "code",
   "execution_count": 26,
   "id": "167c3798",
   "metadata": {
    "scrolled": true
   },
   "outputs": [
    {
     "name": "stdout",
     "output_type": "stream",
     "text": [
      "Confusion Matrix\n",
      "[[76  1]\n",
      " [ 2 60]]\n",
      "\n",
      "\n",
      "정확도: 0.978 정밀도: 0.984 재현율: 0.968 AUC: 0.999 F1: 0.976 F2: 0.971 Balanced_Accuracy: 0.977\n",
      "\n",
      "\n",
      "              precision    recall  f1-score   support\n",
      "\n",
      "          양품       0.97      0.99      0.98        77\n",
      "          불량       0.98      0.97      0.98        62\n",
      "\n",
      "    accuracy                           0.98       139\n",
      "   macro avg       0.98      0.98      0.98       139\n",
      "weighted avg       0.98      0.98      0.98       139\n",
      "\n",
      "XGBoost(Balanced Weight) SMOTEENN=0.65 Prediction Result\n",
      "------------------------------------------------------------------------------------------------------\n",
      "\n",
      "\n",
      "Confusion Matrix\n",
      "[[76  1]\n",
      " [ 4 58]]\n",
      "\n",
      "\n",
      "정확도: 0.964 정밀도: 0.983 재현율: 0.935 AUC: 0.999 F1: 0.959 F2: 0.945 Balanced_Accuracy: 0.961\n",
      "\n",
      "\n",
      "              precision    recall  f1-score   support\n",
      "\n",
      "          양품       0.95      0.99      0.97        77\n",
      "          불량       0.98      0.94      0.96        62\n",
      "\n",
      "    accuracy                           0.96       139\n",
      "   macro avg       0.97      0.96      0.96       139\n",
      "weighted avg       0.96      0.96      0.96       139\n",
      "\n",
      "XGBoost(Balanced Weight) SMOTEENN=0.7 Prediction Result\n",
      "------------------------------------------------------------------------------------------------------\n",
      "\n",
      "\n",
      "Confusion Matrix\n",
      "[[77  0]\n",
      " [ 1 61]]\n",
      "\n",
      "\n",
      "정확도: 0.993 정밀도: 1.0 재현율: 0.984 AUC: 1.0 F1: 0.992 F2: 0.987 Balanced_Accuracy: 0.992\n",
      "\n",
      "\n",
      "              precision    recall  f1-score   support\n",
      "\n",
      "          양품       0.99      1.00      0.99        77\n",
      "          불량       1.00      0.98      0.99        62\n",
      "\n",
      "    accuracy                           0.99       139\n",
      "   macro avg       0.99      0.99      0.99       139\n",
      "weighted avg       0.99      0.99      0.99       139\n",
      "\n",
      "XGBoost(Balanced Weight) SMOTEENN=0.75 Prediction Result\n",
      "------------------------------------------------------------------------------------------------------\n",
      "\n",
      "\n",
      "Confusion Matrix\n",
      "[[76  1]\n",
      " [ 3 59]]\n",
      "\n",
      "\n",
      "정확도: 0.971 정밀도: 0.983 재현율: 0.952 AUC: 0.999 F1: 0.967 F2: 0.958 Balanced_Accuracy: 0.969\n",
      "\n",
      "\n",
      "              precision    recall  f1-score   support\n",
      "\n",
      "          양품       0.96      0.99      0.97        77\n",
      "          불량       0.98      0.95      0.97        62\n",
      "\n",
      "    accuracy                           0.97       139\n",
      "   macro avg       0.97      0.97      0.97       139\n",
      "weighted avg       0.97      0.97      0.97       139\n",
      "\n",
      "XGBoost(Balanced Weight) SMOTEENN=0.8 Prediction Result\n",
      "------------------------------------------------------------------------------------------------------\n",
      "\n",
      "\n",
      "Confusion Matrix\n",
      "[[76  1]\n",
      " [ 2 60]]\n",
      "\n",
      "\n",
      "정확도: 0.978 정밀도: 0.984 재현율: 0.968 AUC: 0.999 F1: 0.976 F2: 0.971 Balanced_Accuracy: 0.977\n",
      "\n",
      "\n",
      "              precision    recall  f1-score   support\n",
      "\n",
      "          양품       0.97      0.99      0.98        77\n",
      "          불량       0.98      0.97      0.98        62\n",
      "\n",
      "    accuracy                           0.98       139\n",
      "   macro avg       0.98      0.98      0.98       139\n",
      "weighted avg       0.98      0.98      0.98       139\n",
      "\n",
      "XGBoost(Balanced Weight) SMOTEENN=0.85 Prediction Result\n",
      "------------------------------------------------------------------------------------------------------\n",
      "\n",
      "\n",
      "Confusion Matrix\n",
      "[[77  0]\n",
      " [ 4 58]]\n",
      "\n",
      "\n",
      "정확도: 0.971 정밀도: 1.0 재현율: 0.935 AUC: 0.999 F1: 0.967 F2: 0.948 Balanced_Accuracy: 0.968\n",
      "\n",
      "\n",
      "              precision    recall  f1-score   support\n",
      "\n",
      "          양품       0.95      1.00      0.97        77\n",
      "          불량       1.00      0.94      0.97        62\n",
      "\n",
      "    accuracy                           0.97       139\n",
      "   macro avg       0.98      0.97      0.97       139\n",
      "weighted avg       0.97      0.97      0.97       139\n",
      "\n",
      "XGBoost(Balanced Weight) SMOTEENN=0.9 Prediction Result\n",
      "------------------------------------------------------------------------------------------------------\n",
      "\n",
      "\n",
      "Confusion Matrix\n",
      "[[76  1]\n",
      " [ 3 59]]\n",
      "\n",
      "\n",
      "정확도: 0.971 정밀도: 0.983 재현율: 0.952 AUC: 0.998 F1: 0.967 F2: 0.958 Balanced_Accuracy: 0.969\n",
      "\n",
      "\n",
      "              precision    recall  f1-score   support\n",
      "\n",
      "          양품       0.96      0.99      0.97        77\n",
      "          불량       0.98      0.95      0.97        62\n",
      "\n",
      "    accuracy                           0.97       139\n",
      "   macro avg       0.97      0.97      0.97       139\n",
      "weighted avg       0.97      0.97      0.97       139\n",
      "\n",
      "XGBoost(Balanced Weight) SMOTEENN=0.95 Prediction Result\n",
      "------------------------------------------------------------------------------------------------------\n",
      "\n",
      "\n",
      "Confusion Matrix\n",
      "[[76  1]\n",
      " [ 3 59]]\n",
      "\n",
      "\n",
      "정확도: 0.971 정밀도: 0.983 재현율: 0.952 AUC: 0.998 F1: 0.967 F2: 0.958 Balanced_Accuracy: 0.969\n",
      "\n",
      "\n",
      "              precision    recall  f1-score   support\n",
      "\n",
      "          양품       0.96      0.99      0.97        77\n",
      "          불량       0.98      0.95      0.97        62\n",
      "\n",
      "    accuracy                           0.97       139\n",
      "   macro avg       0.97      0.97      0.97       139\n",
      "weighted avg       0.97      0.97      0.97       139\n",
      "\n",
      "XGBoost(Balanced Weight) SMOTEENN=1.0 Prediction Result\n",
      "------------------------------------------------------------------------------------------------------\n",
      "\n",
      "\n"
     ]
    }
   ],
   "source": [
    "Oversampling_Test(models[5])"
   ]
  },
  {
   "cell_type": "code",
   "execution_count": 27,
   "id": "26b488e8",
   "metadata": {},
   "outputs": [],
   "source": [
    "#Oversampling_Test(models[6])"
   ]
  },
  {
   "cell_type": "code",
   "execution_count": 28,
   "id": "807a2356",
   "metadata": {
    "scrolled": true
   },
   "outputs": [],
   "source": [
    "#Oversampling_Test(models[7])"
   ]
  },
  {
   "cell_type": "code",
   "execution_count": 29,
   "id": "6e88a283",
   "metadata": {},
   "outputs": [],
   "source": [
    "def Undersampling_Test(model):\n",
    "     \n",
    "    X_train, y_train, X_test, y_test = Train_Test_Split(Feature_Selection)\n",
    "\n",
    "    for i in list(np.arange(0.65,1.05,0.05).round(2)): # sampling_strategy = 0.65, 0.7 , 0.75, 0.8 ,0.85, 0.9, 0.95, 1.0\n",
    "        undersampler = RandomUnderSampler(sampling_strategy=i,random_state=2021) \n",
    "        #undersampler = NearMiss() --> ROS 이외의 언더샘플링 진행시 for 반복문 해제 \n",
    "        # TomekLink(), NearMiss, EditedNearestNeigbours,CondensedNearestNeighbour\n",
    "        \n",
    "        X_train_under,y_train_under = undersampler.fit_resample(X_train,y_train)\n",
    "        ml = model\n",
    "        ml.fit(X_train_under,y_train_under) \n",
    "        pred = ml.predict(X_test)\n",
    "        pred_proba = ml.predict_proba(X_test)[:,1]\n",
    "        get_clf_eval(y_test,pred,pred_proba)  \n",
    "        print('\\n')\n",
    "        print(classification_report(y_test, pred,target_names=['양품','불량']))\n",
    "        \n",
    "        if model == rf:\n",
    "            print('RandomForest ROS'+'='+str(i),'Prediction Result')\n",
    "            print('------------------------------------------------------------------------------------------------------')\n",
    "            print('\\n')\n",
    "            \n",
    "        elif model == rf_bal:\n",
    "            print('RandomForest(Balanced Weight) ROS'+'='+str(i),'Prediction Result')\n",
    "            print('------------------------------------------------------------------------------------------------------')\n",
    "            print('\\n')    \n",
    "\n",
    "        elif model == ada:\n",
    "            print('AdaBoost ROS'+'='+str(i),'Prediction Result')\n",
    "            print('------------------------------------------------------------------------------------------------------')\n",
    "            print('\\n')\n",
    "\n",
    "        elif model == gbm:\n",
    "            print('GradientBoostingMachine ROS'+'='+str(i),'Prediction Result')\n",
    "            print('------------------------------------------------------------------------------------------------------')\n",
    "            print('\\n')\n",
    "\n",
    "        elif model == xgb:\n",
    "            print('XGBoost ROS'+'='+str(i),'Prediction Result')\n",
    "            print('------------------------------------------------------------------------------------------------------')\n",
    "            print('\\n')\n",
    "            \n",
    "        elif model == xgb_bal:\n",
    "            print('XGBoost(Balanced Weight) ROS'+'='+str(i),'Prediction Result')\n",
    "            print('------------------------------------------------------------------------------------------------------')\n",
    "            print('\\n')    \n",
    "\n",
    "\n",
    "        elif model == lgbm:\n",
    "            print('LightGBM ROS'+'='+str(i),'Prediction Result')\n",
    "            print('------------------------------------------------------------------------------------------------------')\n",
    "            print('\\n')   \n",
    "            \n",
    "        elif model == lgbm_bal:\n",
    "            print('LightGBM(Balanced Weight) ROS'+'='+str(i),'Prediction Result')\n",
    "            print('------------------------------------------------------------------------------------------------------')\n",
    "            print('\\n')          \n",
    "            \n",
    "models = [rf,rf_bal,ada,gbm,xgb,xgb_bal,lgbm,lgbm_bal]"
   ]
  },
  {
   "cell_type": "code",
   "execution_count": 30,
   "id": "7bdb45f3",
   "metadata": {},
   "outputs": [],
   "source": [
    "#Undersampling_Test(models[0])"
   ]
  },
  {
   "cell_type": "code",
   "execution_count": 31,
   "id": "e5fba9ed",
   "metadata": {
    "scrolled": true
   },
   "outputs": [],
   "source": [
    "#Undersampling_Test(models[1])"
   ]
  },
  {
   "cell_type": "code",
   "execution_count": 32,
   "id": "53ef776f",
   "metadata": {
    "scrolled": true
   },
   "outputs": [],
   "source": [
    "#Undersampling_Test(models[2])"
   ]
  },
  {
   "cell_type": "code",
   "execution_count": 33,
   "id": "06cddc56",
   "metadata": {
    "scrolled": true
   },
   "outputs": [],
   "source": [
    "#Undersampling_Test(models[3])"
   ]
  },
  {
   "cell_type": "code",
   "execution_count": 34,
   "id": "1db303ca",
   "metadata": {
    "scrolled": true
   },
   "outputs": [],
   "source": [
    "#Undersampling_Test(models[4])"
   ]
  },
  {
   "cell_type": "code",
   "execution_count": 35,
   "id": "1e44bd9f",
   "metadata": {
    "scrolled": true
   },
   "outputs": [
    {
     "name": "stdout",
     "output_type": "stream",
     "text": [
      "Confusion Matrix\n",
      "[[75  2]\n",
      " [ 2 60]]\n",
      "\n",
      "\n",
      "정확도: 0.971 정밀도: 0.968 재현율: 0.968 AUC: 0.997 F1: 0.968 F2: 0.968 Balanced_Accuracy: 0.971\n",
      "\n",
      "\n",
      "              precision    recall  f1-score   support\n",
      "\n",
      "          양품       0.97      0.97      0.97        77\n",
      "          불량       0.97      0.97      0.97        62\n",
      "\n",
      "    accuracy                           0.97       139\n",
      "   macro avg       0.97      0.97      0.97       139\n",
      "weighted avg       0.97      0.97      0.97       139\n",
      "\n",
      "XGBoost(Balanced Weight) ROS=0.65 Prediction Result\n",
      "------------------------------------------------------------------------------------------------------\n",
      "\n",
      "\n",
      "Confusion Matrix\n",
      "[[75  2]\n",
      " [ 3 59]]\n",
      "\n",
      "\n",
      "정확도: 0.964 정밀도: 0.967 재현율: 0.952 AUC: 0.996 F1: 0.959 F2: 0.955 Balanced_Accuracy: 0.963\n",
      "\n",
      "\n",
      "              precision    recall  f1-score   support\n",
      "\n",
      "          양품       0.96      0.97      0.97        77\n",
      "          불량       0.97      0.95      0.96        62\n",
      "\n",
      "    accuracy                           0.96       139\n",
      "   macro avg       0.96      0.96      0.96       139\n",
      "weighted avg       0.96      0.96      0.96       139\n",
      "\n",
      "XGBoost(Balanced Weight) ROS=0.7 Prediction Result\n",
      "------------------------------------------------------------------------------------------------------\n",
      "\n",
      "\n",
      "Confusion Matrix\n",
      "[[75  2]\n",
      " [ 4 58]]\n",
      "\n",
      "\n",
      "정확도: 0.957 정밀도: 0.967 재현율: 0.935 AUC: 0.996 F1: 0.951 F2: 0.942 Balanced_Accuracy: 0.955\n",
      "\n",
      "\n",
      "              precision    recall  f1-score   support\n",
      "\n",
      "          양품       0.95      0.97      0.96        77\n",
      "          불량       0.97      0.94      0.95        62\n",
      "\n",
      "    accuracy                           0.96       139\n",
      "   macro avg       0.96      0.95      0.96       139\n",
      "weighted avg       0.96      0.96      0.96       139\n",
      "\n",
      "XGBoost(Balanced Weight) ROS=0.75 Prediction Result\n",
      "------------------------------------------------------------------------------------------------------\n",
      "\n",
      "\n",
      "Confusion Matrix\n",
      "[[76  1]\n",
      " [ 1 61]]\n",
      "\n",
      "\n",
      "정확도: 0.986 정밀도: 0.984 재현율: 0.984 AUC: 0.997 F1: 0.984 F2: 0.984 Balanced_Accuracy: 0.985\n",
      "\n",
      "\n",
      "              precision    recall  f1-score   support\n",
      "\n",
      "          양품       0.99      0.99      0.99        77\n",
      "          불량       0.98      0.98      0.98        62\n",
      "\n",
      "    accuracy                           0.99       139\n",
      "   macro avg       0.99      0.99      0.99       139\n",
      "weighted avg       0.99      0.99      0.99       139\n",
      "\n",
      "XGBoost(Balanced Weight) ROS=0.8 Prediction Result\n",
      "------------------------------------------------------------------------------------------------------\n",
      "\n",
      "\n",
      "Confusion Matrix\n",
      "[[77  0]\n",
      " [ 4 58]]\n",
      "\n",
      "\n",
      "정확도: 0.971 정밀도: 1.0 재현율: 0.935 AUC: 0.998 F1: 0.967 F2: 0.948 Balanced_Accuracy: 0.968\n",
      "\n",
      "\n",
      "              precision    recall  f1-score   support\n",
      "\n",
      "          양품       0.95      1.00      0.97        77\n",
      "          불량       1.00      0.94      0.97        62\n",
      "\n",
      "    accuracy                           0.97       139\n",
      "   macro avg       0.98      0.97      0.97       139\n",
      "weighted avg       0.97      0.97      0.97       139\n",
      "\n",
      "XGBoost(Balanced Weight) ROS=0.85 Prediction Result\n",
      "------------------------------------------------------------------------------------------------------\n",
      "\n",
      "\n",
      "Confusion Matrix\n",
      "[[76  1]\n",
      " [ 4 58]]\n",
      "\n",
      "\n",
      "정확도: 0.964 정밀도: 0.983 재현율: 0.935 AUC: 0.994 F1: 0.959 F2: 0.945 Balanced_Accuracy: 0.961\n",
      "\n",
      "\n",
      "              precision    recall  f1-score   support\n",
      "\n",
      "          양품       0.95      0.99      0.97        77\n",
      "          불량       0.98      0.94      0.96        62\n",
      "\n",
      "    accuracy                           0.96       139\n",
      "   macro avg       0.97      0.96      0.96       139\n",
      "weighted avg       0.96      0.96      0.96       139\n",
      "\n",
      "XGBoost(Balanced Weight) ROS=0.9 Prediction Result\n",
      "------------------------------------------------------------------------------------------------------\n",
      "\n",
      "\n",
      "Confusion Matrix\n",
      "[[75  2]\n",
      " [ 4 58]]\n",
      "\n",
      "\n",
      "정확도: 0.957 정밀도: 0.967 재현율: 0.935 AUC: 0.993 F1: 0.951 F2: 0.942 Balanced_Accuracy: 0.955\n",
      "\n",
      "\n",
      "              precision    recall  f1-score   support\n",
      "\n",
      "          양품       0.95      0.97      0.96        77\n",
      "          불량       0.97      0.94      0.95        62\n",
      "\n",
      "    accuracy                           0.96       139\n",
      "   macro avg       0.96      0.95      0.96       139\n",
      "weighted avg       0.96      0.96      0.96       139\n",
      "\n",
      "XGBoost(Balanced Weight) ROS=0.95 Prediction Result\n",
      "------------------------------------------------------------------------------------------------------\n",
      "\n",
      "\n",
      "Confusion Matrix\n",
      "[[74  3]\n",
      " [ 3 59]]\n",
      "\n",
      "\n",
      "정확도: 0.957 정밀도: 0.952 재현율: 0.952 AUC: 0.992 F1: 0.952 F2: 0.952 Balanced_Accuracy: 0.956\n",
      "\n",
      "\n",
      "              precision    recall  f1-score   support\n",
      "\n",
      "          양품       0.96      0.96      0.96        77\n",
      "          불량       0.95      0.95      0.95        62\n",
      "\n",
      "    accuracy                           0.96       139\n",
      "   macro avg       0.96      0.96      0.96       139\n",
      "weighted avg       0.96      0.96      0.96       139\n",
      "\n",
      "XGBoost(Balanced Weight) ROS=1.0 Prediction Result\n",
      "------------------------------------------------------------------------------------------------------\n",
      "\n",
      "\n"
     ]
    }
   ],
   "source": [
    "Undersampling_Test(models[5])"
   ]
  },
  {
   "cell_type": "code",
   "execution_count": 36,
   "id": "87052c40",
   "metadata": {},
   "outputs": [],
   "source": [
    "#Undersampling_Test(models[6])"
   ]
  },
  {
   "cell_type": "code",
   "execution_count": 37,
   "id": "322de751",
   "metadata": {},
   "outputs": [],
   "source": [
    "#Undersampling_Test(models[7])"
   ]
  },
  {
   "cell_type": "code",
   "execution_count": 38,
   "id": "2f935072",
   "metadata": {},
   "outputs": [],
   "source": [
    "def preprocessing():\n",
    "    \n",
    "    X_train, y_train, X_test, y_test = Train_Test_Split(Feature_Selection)\n",
    "    #undersampler = RandomUnderSampler(sampling_strategy=1.0,random_state=2021) \n",
    "    #X_train,y_train = undersampler.fit_resample(X_train,y_train)\n",
    "    \n",
    "    Train_All = pd.concat([X_train,y_train],axis=1)\n",
    "    X_train_Normal = Train_All[Train_All['QUALITY']==0].drop(['QUALITY'],axis=1)\n",
    "\n",
    "    scaler = MinMaxScaler()\n",
    "    scaler.fit(X_train_Normal) # Train Data 기준으로 Train/Test 스케일링 진행 \n",
    "\n",
    "    X_train_Normal = pd.DataFrame(scaler.transform(X_train_Normal),columns = X_train_Normal.columns)\n",
    "    X_test = pd.DataFrame(scaler.transform(X_test),columns = X_test.columns)\n",
    "    \n",
    "    return X_train_Normal, X_test , y_train ,y_test\n",
    "\n",
    "X_train_Normal, X_test , y_train ,y_test = preprocessing()"
   ]
  },
  {
   "cell_type": "code",
   "execution_count": 39,
   "id": "54371fc2",
   "metadata": {},
   "outputs": [
    {
     "data": {
      "text/plain": [
       "((7256, 400), (139, 400))"
      ]
     },
     "execution_count": 39,
     "metadata": {},
     "output_type": "execute_result"
    }
   ],
   "source": [
    "X_train_Normal.shape, X_test.shape"
   ]
  },
  {
   "cell_type": "code",
   "execution_count": 40,
   "id": "51ef8bbf",
   "metadata": {},
   "outputs": [
    {
     "data": {
      "text/plain": [
       "(QUALITY\n",
       " 0    7256\n",
       " 1     269\n",
       " Name: count, dtype: int64,\n",
       " QUALITY\n",
       " 0    77\n",
       " 1    62\n",
       " Name: count, dtype: int64)"
      ]
     },
     "execution_count": 40,
     "metadata": {},
     "output_type": "execute_result"
    }
   ],
   "source": [
    "y_train.value_counts(),y_test.value_counts()"
   ]
  },
  {
   "cell_type": "code",
   "execution_count": 41,
   "id": "ff1593c1",
   "metadata": {},
   "outputs": [],
   "source": [
    "def build_autoencoder(X,outer,inner,latent_vector,function,dropout_ratio):\n",
    "    \n",
    "    random.seed(1234)\n",
    "    np.random.seed(1234)\n",
    "    tf.random.set_seed(1234)\n",
    "    \n",
    "    input_layer = Input(shape = (X.shape[1],))\n",
    "    \n",
    "    encoded = Dense(outer, activation = function,kernel_initializer='random_uniform',bias_initializer='zeros')(input_layer)\n",
    "    encoded = Dropout(dropout_ratio)(encoded)\n",
    "    encoded = Dense(inner, activation = function,kernel_initializer='random_uniform',bias_initializer='zeros')(encoded)\n",
    "    \n",
    "    encoded = Dense(latent_vector, activation = function)(encoded) \n",
    "    \n",
    "    decoded = Dense(inner, activation = function,kernel_initializer='random_uniform',bias_initializer='zeros')(encoded)\n",
    "    decoded = Dropout(dropout_ratio)(decoded)\n",
    "    decoded = Dense(outer, activation = function,kernel_initializer='random_uniform',bias_initializer='zeros')(decoded)\n",
    "    \n",
    "    output_layer = Dense(X.shape[1], activation = function,kernel_initializer='random_uniform',bias_initializer='zeros')(decoded)\n",
    "\n",
    "    autoencoder = Model(input_layer, output_layer)\n",
    "    autoencoder.compile(optimizer='adam', loss='mse')\n",
    "    \n",
    "    return autoencoder"
   ]
  },
  {
   "cell_type": "code",
   "execution_count": 42,
   "id": "763058e1",
   "metadata": {},
   "outputs": [],
   "source": [
    "def train_autoencoder(model,X,batch,epoch,val,patience):\n",
    "    history = model.fit(X, X,\n",
    "                              batch_size = batch, epochs = epoch, \n",
    "                              validation_split = val,callbacks=EarlyStopping(patience=patience))\n",
    "    \n",
    "    print('\\n')\n",
    "    sns.set(font_scale=1.0)\n",
    "    plt.figure(figsize=(6,4))\n",
    "    plt.grid(True)\n",
    "    plt.plot(history.history['loss'], label='train loss')\n",
    "    plt.plot(history.history['val_loss'], label='valid loss')\n",
    "    plt.legend()\n",
    "    plt.xlabel('Epoch'); plt.ylabel('loss')\n",
    "    plt.show()\n",
    "\n",
    "    return history "
   ]
  },
  {
   "cell_type": "code",
   "execution_count": 43,
   "id": "1763e6a9",
   "metadata": {},
   "outputs": [],
   "source": [
    "X = X_train_Normal\n",
    "\n",
    "outer = 256\n",
    "inner = 128\n",
    "latent_vector = 64\n",
    "dropout_ratio = 0.2\n",
    "function = 'relu'\n",
    "\n",
    "batch = 100\n",
    "epoch = 1000\n",
    "val = 0.2\n",
    "patience = 10"
   ]
  },
  {
   "cell_type": "code",
   "execution_count": 44,
   "id": "9272f258",
   "metadata": {
    "scrolled": true
   },
   "outputs": [
    {
     "name": "stdout",
     "output_type": "stream",
     "text": [
      "Epoch 1/1000\n",
      "59/59 [==============================] - 2s 11ms/step - loss: 0.0676 - val_loss: 0.0388\n",
      "Epoch 2/1000\n",
      "59/59 [==============================] - 0s 5ms/step - loss: 0.0395 - val_loss: 0.0367\n",
      "Epoch 3/1000\n",
      "59/59 [==============================] - 0s 4ms/step - loss: 0.0273 - val_loss: 0.0213\n",
      "Epoch 4/1000\n",
      "59/59 [==============================] - 0s 5ms/step - loss: 0.0211 - val_loss: 0.0192\n",
      "Epoch 5/1000\n",
      "59/59 [==============================] - 0s 5ms/step - loss: 0.0198 - val_loss: 0.0183\n",
      "Epoch 6/1000\n",
      "59/59 [==============================] - 0s 5ms/step - loss: 0.0186 - val_loss: 0.0171\n",
      "Epoch 7/1000\n",
      "59/59 [==============================] - 0s 5ms/step - loss: 0.0178 - val_loss: 0.0153\n",
      "Epoch 8/1000\n",
      "59/59 [==============================] - 0s 4ms/step - loss: 0.0152 - val_loss: 0.0131\n",
      "Epoch 9/1000\n",
      "59/59 [==============================] - 0s 5ms/step - loss: 0.0134 - val_loss: 0.0115\n",
      "Epoch 10/1000\n",
      "59/59 [==============================] - 0s 5ms/step - loss: 0.0121 - val_loss: 0.0104\n",
      "Epoch 11/1000\n",
      "59/59 [==============================] - 0s 5ms/step - loss: 0.0113 - val_loss: 0.0109\n",
      "Epoch 12/1000\n",
      "59/59 [==============================] - 0s 4ms/step - loss: 0.0108 - val_loss: 0.0097\n",
      "Epoch 13/1000\n",
      "59/59 [==============================] - 0s 5ms/step - loss: 0.0103 - val_loss: 0.0097\n",
      "Epoch 14/1000\n",
      "59/59 [==============================] - 0s 5ms/step - loss: 0.0104 - val_loss: 0.0104\n",
      "Epoch 15/1000\n",
      "59/59 [==============================] - 0s 5ms/step - loss: 0.0103 - val_loss: 0.0099\n",
      "Epoch 16/1000\n",
      "59/59 [==============================] - 0s 4ms/step - loss: 0.0099 - val_loss: 0.0091\n",
      "Epoch 17/1000\n",
      "59/59 [==============================] - 0s 4ms/step - loss: 0.0096 - val_loss: 0.0090\n",
      "Epoch 18/1000\n",
      "59/59 [==============================] - 0s 5ms/step - loss: 0.0094 - val_loss: 0.0089\n",
      "Epoch 19/1000\n",
      "59/59 [==============================] - 0s 5ms/step - loss: 0.0094 - val_loss: 0.0110\n",
      "Epoch 20/1000\n",
      "59/59 [==============================] - 0s 5ms/step - loss: 0.0090 - val_loss: 0.0084\n",
      "Epoch 21/1000\n",
      "59/59 [==============================] - 0s 5ms/step - loss: 0.0080 - val_loss: 0.0074\n",
      "Epoch 22/1000\n",
      "59/59 [==============================] - 0s 5ms/step - loss: 0.0077 - val_loss: 0.0072\n",
      "Epoch 23/1000\n",
      "59/59 [==============================] - 0s 5ms/step - loss: 0.0076 - val_loss: 0.0081\n",
      "Epoch 24/1000\n",
      "59/59 [==============================] - 0s 4ms/step - loss: 0.0076 - val_loss: 0.0071\n",
      "Epoch 25/1000\n",
      "59/59 [==============================] - 0s 5ms/step - loss: 0.0074 - val_loss: 0.0068\n",
      "Epoch 26/1000\n",
      "59/59 [==============================] - 0s 5ms/step - loss: 0.0072 - val_loss: 0.0071\n",
      "Epoch 27/1000\n",
      "59/59 [==============================] - 0s 4ms/step - loss: 0.0072 - val_loss: 0.0069\n",
      "Epoch 28/1000\n",
      "59/59 [==============================] - 0s 5ms/step - loss: 0.0069 - val_loss: 0.0060\n",
      "Epoch 29/1000\n",
      "59/59 [==============================] - 0s 5ms/step - loss: 0.0062 - val_loss: 0.0058\n",
      "Epoch 30/1000\n",
      "59/59 [==============================] - 0s 5ms/step - loss: 0.0061 - val_loss: 0.0059\n",
      "Epoch 31/1000\n",
      "59/59 [==============================] - 0s 5ms/step - loss: 0.0062 - val_loss: 0.0058\n",
      "Epoch 32/1000\n",
      "59/59 [==============================] - 0s 5ms/step - loss: 0.0062 - val_loss: 0.0055\n",
      "Epoch 33/1000\n",
      "59/59 [==============================] - 0s 5ms/step - loss: 0.0062 - val_loss: 0.0059\n",
      "Epoch 34/1000\n",
      "59/59 [==============================] - 0s 4ms/step - loss: 0.0060 - val_loss: 0.0055\n",
      "Epoch 35/1000\n",
      "59/59 [==============================] - 0s 4ms/step - loss: 0.0060 - val_loss: 0.0055\n",
      "Epoch 36/1000\n",
      "59/59 [==============================] - 0s 4ms/step - loss: 0.0059 - val_loss: 0.0055\n",
      "Epoch 37/1000\n",
      "59/59 [==============================] - 0s 5ms/step - loss: 0.0059 - val_loss: 0.0055\n",
      "Epoch 38/1000\n",
      "59/59 [==============================] - 0s 5ms/step - loss: 0.0059 - val_loss: 0.0057\n",
      "Epoch 39/1000\n",
      "59/59 [==============================] - 0s 4ms/step - loss: 0.0060 - val_loss: 0.0055\n",
      "Epoch 40/1000\n",
      "59/59 [==============================] - 0s 5ms/step - loss: 0.0059 - val_loss: 0.0056\n",
      "Epoch 41/1000\n",
      "59/59 [==============================] - 0s 5ms/step - loss: 0.0060 - val_loss: 0.0059\n",
      "Epoch 42/1000\n",
      "59/59 [==============================] - 0s 4ms/step - loss: 0.0057 - val_loss: 0.0051\n",
      "Epoch 43/1000\n",
      "59/59 [==============================] - 0s 4ms/step - loss: 0.0053 - val_loss: 0.0048\n",
      "Epoch 44/1000\n",
      "59/59 [==============================] - 0s 5ms/step - loss: 0.0053 - val_loss: 0.0049\n",
      "Epoch 45/1000\n",
      "59/59 [==============================] - 0s 4ms/step - loss: 0.0053 - val_loss: 0.0050\n",
      "Epoch 46/1000\n",
      "59/59 [==============================] - 0s 4ms/step - loss: 0.0053 - val_loss: 0.0049\n",
      "Epoch 47/1000\n",
      "59/59 [==============================] - 0s 4ms/step - loss: 0.0052 - val_loss: 0.0051\n",
      "Epoch 48/1000\n",
      "59/59 [==============================] - 0s 5ms/step - loss: 0.0054 - val_loss: 0.0045\n",
      "Epoch 49/1000\n",
      "59/59 [==============================] - 0s 4ms/step - loss: 0.0046 - val_loss: 0.0042\n",
      "Epoch 50/1000\n",
      "59/59 [==============================] - 0s 4ms/step - loss: 0.0045 - val_loss: 0.0044\n",
      "Epoch 51/1000\n",
      "59/59 [==============================] - 0s 4ms/step - loss: 0.0045 - val_loss: 0.0041\n",
      "Epoch 52/1000\n",
      "59/59 [==============================] - 0s 5ms/step - loss: 0.0045 - val_loss: 0.0042\n",
      "Epoch 53/1000\n",
      "59/59 [==============================] - 0s 5ms/step - loss: 0.0045 - val_loss: 0.0042\n",
      "Epoch 54/1000\n",
      "59/59 [==============================] - 0s 4ms/step - loss: 0.0041 - val_loss: 0.0041\n",
      "Epoch 55/1000\n",
      "59/59 [==============================] - 0s 4ms/step - loss: 0.0042 - val_loss: 0.0044\n",
      "Epoch 56/1000\n",
      "59/59 [==============================] - 0s 4ms/step - loss: 0.0044 - val_loss: 0.0040\n",
      "Epoch 57/1000\n",
      "59/59 [==============================] - 0s 4ms/step - loss: 0.0042 - val_loss: 0.0038\n",
      "Epoch 58/1000\n",
      "59/59 [==============================] - 0s 4ms/step - loss: 0.0042 - val_loss: 0.0038\n",
      "Epoch 59/1000\n",
      "59/59 [==============================] - 0s 4ms/step - loss: 0.0041 - val_loss: 0.0044\n",
      "Epoch 60/1000\n",
      "59/59 [==============================] - 0s 5ms/step - loss: 0.0042 - val_loss: 0.0038\n",
      "Epoch 61/1000\n",
      "59/59 [==============================] - 0s 4ms/step - loss: 0.0041 - val_loss: 0.0037\n",
      "Epoch 62/1000\n",
      "59/59 [==============================] - 0s 4ms/step - loss: 0.0041 - val_loss: 0.0040\n",
      "Epoch 63/1000\n",
      "59/59 [==============================] - 0s 5ms/step - loss: 0.0041 - val_loss: 0.0038\n",
      "Epoch 64/1000\n",
      "59/59 [==============================] - 0s 4ms/step - loss: 0.0040 - val_loss: 0.0040\n",
      "Epoch 65/1000\n",
      "59/59 [==============================] - 0s 4ms/step - loss: 0.0041 - val_loss: 0.0038\n",
      "Epoch 66/1000\n",
      "59/59 [==============================] - 0s 4ms/step - loss: 0.0041 - val_loss: 0.0038\n",
      "Epoch 67/1000\n",
      "59/59 [==============================] - 0s 5ms/step - loss: 0.0041 - val_loss: 0.0039\n",
      "Epoch 68/1000\n",
      "59/59 [==============================] - 0s 4ms/step - loss: 0.0041 - val_loss: 0.0039\n",
      "Epoch 69/1000\n",
      "59/59 [==============================] - 0s 4ms/step - loss: 0.0041 - val_loss: 0.0037\n",
      "Epoch 70/1000\n",
      "59/59 [==============================] - 0s 4ms/step - loss: 0.0040 - val_loss: 0.0038\n",
      "Epoch 71/1000\n",
      "59/59 [==============================] - 0s 4ms/step - loss: 0.0040 - val_loss: 0.0041\n",
      "\n",
      "\n"
     ]
    },
    {
     "data": {
      "image/png": "[encoded data removed]",
      "text/plain": [
       "<Figure size 600x400 with 1 Axes>"
      ]
     },
     "metadata": {},
     "output_type": "display_data"
    }
   ],
   "source": [
    "autoencoder = build_autoencoder(X,outer,inner,latent_vector,function,dropout_ratio)\n",
    "\n",
    "history = train_autoencoder(autoencoder,X,batch,epoch,val,patience)"
   ]
  },
  {
   "cell_type": "code",
   "execution_count": 45,
   "id": "7121eba2",
   "metadata": {},
   "outputs": [],
   "source": [
    "def reconstruction_loss(model,x_train,x_test):\n",
    "    \n",
    "    x_train_pred  = model.predict(x_train)\n",
    "    x_test_pred = model.predict(x_test)\n",
    "    \n",
    "    train_mae_loss = np.mean(np.abs(x_train_pred - x_train), axis=1)\n",
    "    test_mae_loss = np.mean(np.abs(x_test_pred - x_test), axis=1)\n",
    "\n",
    "    print('\\n')\n",
    "    plt.figure(figsize=(6,4))\n",
    "    plt.title('Reconstruction MAE Loss')\n",
    "    plt.hist(train_mae_loss, bins=40,color='blue',density=True,label='Train')\n",
    "    plt.hist(test_mae_loss, bins=40,color='red',density=True,label='Test')\n",
    "    plt.legend()\n",
    "    plt.show()\n",
    "\n",
    "    threshold_train = np.max(train_mae_loss) \n",
    "    threshold_test = np.max(test_mae_loss) \n",
    "    print('\\n')\n",
    "    print(\"Train (Normal Only) Reconstruction error threshold:\", threshold_train)\n",
    "    print('\\n')\n",
    "    print(\"Test Reconstruction error threshold:\", threshold_test)\n",
    "    \n",
    "    #anomalies = threshold_test > threshold_train\n",
    "    #print('\\n')\n",
    "    #print(\"Train Threshold Based Detected Anomalies: \", np.sum(anomalies))\n",
    "    #print(\"Real Normal Labels from Test Data : \", y_test.value_counts()[0])\n",
    "    #print(\"Real Fault Labels from Test Data : \", y_test.value_counts()[1])\n",
    "    \n",
    "    return train_mae_loss, test_mae_loss, threshold_train, threshold_test"
   ]
  },
  {
   "cell_type": "code",
   "execution_count": 46,
   "id": "afef1ddd",
   "metadata": {},
   "outputs": [
    {
     "name": "stdout",
     "output_type": "stream",
     "text": [
      "227/227 [==============================] - 0s 1ms/step\n",
      "5/5 [==============================] - 0s 2ms/step\n",
      "\n",
      "\n"
     ]
    },
    {
     "data": {
      "image/png": "[encoded data removed]",
      "text/plain": [
       "<Figure size 600x400 with 1 Axes>"
      ]
     },
     "metadata": {},
     "output_type": "display_data"
    },
    {
     "name": "stdout",
     "output_type": "stream",
     "text": [
      "\n",
      "\n",
      "Train (Normal Only) Reconstruction error threshold: 0.11377470067796264\n",
      "\n",
      "\n",
      "Test Reconstruction error threshold: 0.09069858186150666\n"
     ]
    }
   ],
   "source": [
    "train_mae_loss, test_mae_loss, threshold_train, threshold_test = reconstruction_loss(autoencoder,X_train_Normal,X_test)"
   ]
  },
  {
   "cell_type": "code",
   "execution_count": 47,
   "id": "3f0bf419",
   "metadata": {},
   "outputs": [],
   "source": [
    "def anomaly_threshold(threshold,model):\n",
    "    test_score_df = pd.DataFrame(X_test[:])\n",
    "    test_score_df['loss'] = test_mae_loss # --> pred_proba\n",
    "    test_score_df['threshold'] = threshold # 레이블 예측 임계값 \n",
    "    test_score_df['anomaly'] = test_score_df['loss'] > test_score_df['threshold']\n",
    "    test_score_df['score'] = test_score_df[\"anomaly\"].astype(int) # 예측 레이블 \n",
    "    get_clf_eval(y_test,test_score_df['score'],test_score_df['loss'])\n",
    "    print('\\n')\n",
    "    print(classification_report(y_test, test_score_df['score'],target_names=['양품','불량']))\n",
    "    \n",
    "    test_error = pd.DataFrame({'Reconstruction_error': test_mae_loss,'True_class': y_test.reset_index()['QUALITY']})\n",
    "\n",
    "    plt.figure(figsize=(4, 3))\n",
    "    plt.title(model, fontsize=12)\n",
    "    plt.scatter(test_error.index[test_error['True_class'] == 0],test_error[test_error['True_class'] == 0]['Reconstruction_error'], s = 10, label = 'Normal')\n",
    "    plt.scatter(test_error.index[test_error['True_class'] == 1],test_error[test_error['True_class'] == 1]['Reconstruction_error'], s = 10, label = 'Fault')\n",
    "    plt.xlabel('Count', fontsize=10)\n",
    "    plt.ylabel('Mean Absolute Error (MAE)', fontsize=10)\n",
    "    plt.axhline(threshold,color = 'red', ls = '--', label = 'Threshold = %0.2f' % (threshold))\n",
    "    plt.legend(bbox_to_anchor=(1.0, 1.03))\n",
    "    plt.show()"
   ]
  },
  {
   "cell_type": "code",
   "execution_count": 48,
   "id": "9e8d5846",
   "metadata": {},
   "outputs": [
    {
     "data": {
      "text/plain": [
       "0.11377470067796264"
      ]
     },
     "execution_count": 48,
     "metadata": {},
     "output_type": "execute_result"
    }
   ],
   "source": [
    "threshold_train"
   ]
  },
  {
   "cell_type": "code",
   "execution_count": 53,
   "id": "b7242e2c",
   "metadata": {
    "scrolled": false
   },
   "outputs": [
    {
     "name": "stdout",
     "output_type": "stream",
     "text": [
      "Confusion Matrix\n",
      "[[59 18]\n",
      " [ 8 54]]\n",
      "\n",
      "\n",
      "정확도: 0.813 정밀도: 0.75 재현율: 0.871 AUC: 0.868 F1: 0.806 F2: 0.844 Balanced_Accuracy: 0.819\n",
      "\n",
      "\n",
      "              precision    recall  f1-score   support\n",
      "\n",
      "          양품       0.88      0.77      0.82        77\n",
      "          불량       0.75      0.87      0.81        62\n",
      "\n",
      "    accuracy                           0.81       139\n",
      "   macro avg       0.82      0.82      0.81       139\n",
      "weighted avg       0.82      0.81      0.81       139\n",
      "\n"
     ]
    },
    {
     "data": {
      "image/png": "[encoded data removed]",
      "text/plain": [
       "<Figure size 400x300 with 1 Axes>"
      ]
     },
     "metadata": {},
     "output_type": "display_data"
    }
   ],
   "source": [
    "anomaly_threshold(threshold = 0.0305, model=autoencoder)"
   ]
  },
  {
   "cell_type": "code",
   "execution_count": 50,
   "id": "716a6a21",
   "metadata": {
    "scrolled": true
   },
   "outputs": [],
   "source": [
    "#for i in range(0,len(test_mae_loss)):\n",
    "    \n",
    "    \n",
    "#    anomaly_threshold(test_mae_loss[i],'Autoencoder')\n",
    "#    print('threshold'+ ' = ' + str(test_mae_loss[i]))\n",
    "#    print('-----------------------------------------------------------------------------------------')\n",
    "#    print('\\n')"
   ]
  }
 ],
 "metadata": {
  "kernelspec": {
   "display_name": "Python 3 (ipykernel)",
   "language": "python",
   "name": "python3"
  },
  "language_info": {
   "codemirror_mode": {
    "name": "ipython",
    "version": 3
   },
   "file_extension": ".py",
   "mimetype": "text/x-python",
   "name": "python",
   "nbconvert_exporter": "python",
   "pygments_lexer": "ipython3",
   "version": "3.9.13"
  }
 },
 "nbformat": 4,
 "nbformat_minor": 5
}
